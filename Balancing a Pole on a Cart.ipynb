{
 "cells": [
  {
   "cell_type": "markdown",
   "metadata": {},
   "source": [
    "# Balancing a Pole on a Cart"
   ]
  },
  {
   "cell_type": "markdown",
   "metadata": {},
   "source": [
    "### Using a Basic Policy Algorithm"
   ]
  },
  {
   "cell_type": "code",
   "execution_count": 4,
   "metadata": {},
   "outputs": [
    {
     "name": "stdout",
     "output_type": "stream",
     "text": [
      "Results (in seconds)\n",
      "--------------------\n",
      "Mean Time: 42.47\n",
      "Std Time: 8.53\n",
      "Min Time: 24.00\n",
      "Max Time: 66.00\n"
     ]
    }
   ],
   "source": [
    "import gym\n",
    "import numpy as np\n",
    "\n",
    "def basic_policy(obs):\n",
    "    angle = obs[2]\n",
    "    if angle < 0: return 0\n",
    "    else: return 1\n",
    "\n",
    "env    = gym.make('CartPole-v0')\n",
    "totals = []\n",
    "for episode in range(500):\n",
    "    episode_rewards = 0\n",
    "    obs = env.reset()\n",
    "\n",
    "    for _ in range(1000):\n",
    "        env.render()\n",
    "        action = basic_policy(obs)\n",
    "        obs, reward, done, _ = env.step(action)\n",
    "        episode_rewards += reward\n",
    "        if done: break\n",
    "    \n",
    "    totals.append(episode_rewards)\n",
    "    \n",
    "env.close()\n",
    "\n",
    "print(\"Results (in seconds)\")\n",
    "print(\"--------------------\")\n",
    "print(\"Mean Time: %.2f\" % np.mean(totals))\n",
    "print(\"Std Time: %.2f\" % np.std(totals))\n",
    "print(\"Min Time: %.2f\" % np.min(totals))\n",
    "print(\"Max Time: %.2f\" % np.max(totals))"
   ]
  },
  {
   "cell_type": "markdown",
   "metadata": {},
   "source": [
    "### Using A Neural Network Policy Algorithm"
   ]
  },
  {
   "cell_type": "code",
   "execution_count": 1,
   "metadata": {},
   "outputs": [
    {
     "name": "stdout",
     "output_type": "stream",
     "text": [
      "\n",
      "WARNING: The TensorFlow contrib module will not be included in TensorFlow 2.0.\n",
      "For more information, please see:\n",
      "  * https://github.com/tensorflow/community/blob/master/rfcs/20180907-contrib-sunset.md\n",
      "  * https://github.com/tensorflow/addons\n",
      "If you depend on functionality not listed there, please file an issue.\n",
      "\n",
      "WARNING:tensorflow:From <ipython-input-1-3c7a19f4ece8>:11: dense (from tensorflow.python.layers.core) is deprecated and will be removed in a future version.\n",
      "Instructions for updating:\n",
      "Use keras.layers.dense instead.\n",
      "WARNING:tensorflow:From /anaconda3/lib/python3.7/site-packages/tensorflow/python/framework/op_def_library.py:263: colocate_with (from tensorflow.python.framework.ops) is deprecated and will be removed in a future version.\n",
      "Instructions for updating:\n",
      "Colocations handled automatically by placer.\n",
      "WARNING:tensorflow:From <ipython-input-1-3c7a19f4ece8>:16: multinomial (from tensorflow.python.ops.random_ops) is deprecated and will be removed in a future version.\n",
      "Instructions for updating:\n",
      "Use tf.random.categorical instead.\n",
      "WARNING:tensorflow:From <ipython-input-1-3c7a19f4ece8>:18: to_float (from tensorflow.python.ops.math_ops) is deprecated and will be removed in a future version.\n",
      "Instructions for updating:\n",
      "Use tf.cast instead.\n"
     ]
    }
   ],
   "source": [
    "import tensorflow as tf #TensorFlow version 1.13\n",
    "\n",
    "n_inputs  = 4\n",
    "n_hidden  = 4\n",
    "n_outputs = 1\n",
    "learning_rate = 0.01\n",
    "\n",
    "initializer = tf.contrib.layers.variance_scaling_initializer()\n",
    "\n",
    "X       = tf.placeholder(tf.float32, shape = [None, n_inputs])\n",
    "hidden  = tf.layers.dense(X, n_hidden, activation = tf.nn.elu, kernel_initializer = initializer)\n",
    "logits  = tf.layers.dense(hidden, n_outputs, kernel_initializer = initializer)\n",
    "outputs = tf.nn.sigmoid(logits)\n",
    "\n",
    "p_left_and_right = tf.concat(axis = 1, values = [outputs, 1 - outputs])\n",
    "action           = tf.multinomial(tf.log(p_left_and_right), num_samples = 1)\n",
    "\n",
    "y = 1. - tf.to_float(action)\n",
    "cross_entropy  = tf.nn.sigmoid_cross_entropy_with_logits(labels = y, logits = logits)\n",
    "\n",
    "optimizer      = tf.train.AdamOptimizer(learning_rate)\n",
    "grads_and_vars = optimizer.compute_gradients(cross_entropy)\n",
    "gradients      = [grad for grad, variable in grads_and_vars]\n",
    "\n",
    "gradient_placeholders = []\n",
    "grads_and_vars_feed   = []\n",
    "for grad, variable in grads_and_vars:\n",
    "    gradient_placeholder = tf.placeholder(tf.float32, shape = grad.get_shape())\n",
    "    gradient_placeholders.append(gradient_placeholder)\n",
    "    grads_and_vars_feed.append((gradient_placeholder, variable))\n",
    "    \n",
    "training_op = optimizer.apply_gradients(grads_and_vars_feed)\n",
    "\n",
    "init = tf.global_variables_initializer()"
   ]
  },
  {
   "cell_type": "code",
   "execution_count": 2,
   "metadata": {},
   "outputs": [],
   "source": [
    "def discount_rewards(rewards, discount_rate):\n",
    "    discounted_rewards = np.empty(len(rewards))\n",
    "    cumulative_rewards = 0\n",
    "    \n",
    "    for step in reversed(range(len(rewards))):\n",
    "        cumulative_rewards = rewards[step] + cumulative_rewards * discount_rate\n",
    "        discounted_rewards[step] = cumulative_rewards\n",
    "    \n",
    "    return discounted_rewards\n",
    "\n",
    "def discount_and_normalize_rewards(all_rewards, discount_rate):\n",
    "    all_discounted_rewards = [discount_rewards(rewards, discount_rate) for rewards in all_rewards]\n",
    "    flat_rewards = np.concatenate(all_discounted_rewards)\n",
    "    reward_mean  = flat_rewards.mean()\n",
    "    reward_std   = flat_rewards.std()\n",
    "    \n",
    "    return [(discounted_rewards - reward_mean)/reward_std \n",
    "            for discounted_rewards in all_discounted_rewards]\n"
   ]
  },
  {
   "cell_type": "code",
   "execution_count": 7,
   "metadata": {},
   "outputs": [
    {
     "name": "stdout",
     "output_type": "stream",
     "text": [
      "Results (in seconds)\n",
      "--------------------\n",
      "Mean Time: 186.90\n",
      "Std Time: 23.91\n",
      "Min Time: 42.00\n",
      "Max Time: 200.00\n"
     ]
    }
   ],
   "source": [
    "n_iterations       = 250\n",
    "n_max_steps        = 1000\n",
    "n_games_per_update = 10\n",
    "save_iterations    = 10\n",
    "discount_rate      = 0.95\n",
    "\n",
    "with tf.Session() as sess:\n",
    "    #Training the Neural Network\n",
    "    init.run()\n",
    "    for iteration in range(n_iterations):\n",
    "        \n",
    "        all_rewards   = []\n",
    "        all_gradients = []\n",
    "        for game in range(n_games_per_update):\n",
    "            \n",
    "            current_rewards   = []\n",
    "            current_gradients = []\n",
    "            obs = env.reset()\n",
    "            for step in range(n_max_steps):\n",
    "                action_val, gradients_val = sess.run(\n",
    "                    [action, gradients],\n",
    "                    feed_dict = {X: obs.reshape(1, n_inputs)})\n",
    "                \n",
    "                obs, reward, done, info = env.step(action_val[0][0])\n",
    "                current_rewards.append(reward)\n",
    "                current_gradients.append(gradients_val)\n",
    "                if done: break\n",
    "            \n",
    "            all_rewards.append(current_rewards)\n",
    "            all_gradients.append(current_gradients)\n",
    "        \n",
    "        all_rewards = discount_and_normalize_rewards(all_rewards, discount_rate)\n",
    "        feed_dict = {}\n",
    "        for var_index, grad_placeholder in enumerate(gradient_placeholders):\n",
    "            mean_gradients = np.mean(\n",
    "                [reward * all_gradients[game_index][step][var_index]\n",
    "                    for game_index, rewards in enumerate(all_rewards)\n",
    "                    for step, reward in enumerate(rewards)],\n",
    "                axis = 0)\n",
    "            feed_dict[grad_placeholder] = mean_gradients\n",
    "            \n",
    "        sess.run(training_op, feed_dict = feed_dict)\n",
    "    \n",
    "    #Evaluating the Neural Network\n",
    "    totals = []\n",
    "    for episode in range(500):\n",
    "        episode_rewards = 0\n",
    "        obs = env.reset()\n",
    "\n",
    "        for _ in range(1000):\n",
    "            env.render()\n",
    "            action_val = sess.run(action, feed_dict = {X: obs.reshape(1, n_inputs)})\n",
    "            obs, reward, done, _ = env.step(action_val[0][0])\n",
    "            episode_rewards += reward\n",
    "            if done: break\n",
    "\n",
    "        totals.append(episode_rewards)\n",
    "    \n",
    "    env.close()\n",
    "\n",
    "print(\"Results (in seconds)\")\n",
    "print(\"--------------------\")\n",
    "print(\"Mean Time: %.2f\" % np.mean(totals))\n",
    "print(\"Std Time: %.2f\" % np.std(totals))\n",
    "print(\"Min Time: %.2f\" % np.min(totals))\n",
    "print(\"Max Time: %.2f\" % np.max(totals))"
   ]
  }
 ],
 "metadata": {
  "kernelspec": {
   "display_name": "Python 3",
   "language": "python",
   "name": "python3"
  },
  "language_info": {
   "codemirror_mode": {
    "name": "ipython",
    "version": 3
   },
   "file_extension": ".py",
   "mimetype": "text/x-python",
   "name": "python",
   "nbconvert_exporter": "python",
   "pygments_lexer": "ipython3",
   "version": "3.7.4"
  }
 },
 "nbformat": 4,
 "nbformat_minor": 2
}
